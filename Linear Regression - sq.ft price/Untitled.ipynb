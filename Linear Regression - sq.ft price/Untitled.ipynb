{
 "cells": [
  {
   "cell_type": "markdown",
   "id": "handled-desperate",
   "metadata": {},
   "source": [
    "# In this task prediction is done on the Sell Price based on Square feet of an area using Linear-Regression method\n",
    "## Import Libraries and Data"
   ]
  },
  {
   "cell_type": "code",
   "execution_count": 1,
   "id": "portuguese-learning",
   "metadata": {},
   "outputs": [],
   "source": [
    "import pandas as pd\n",
    "import numpy as np\n",
    "import matplotlib.pyplot as plt\n",
    "%matplotlib inline"
   ]
  },
  {
   "cell_type": "code",
   "execution_count": 2,
   "id": "postal-proposition",
   "metadata": {},
   "outputs": [],
   "source": [
    "df = pd.read_csv('data.csv')"
   ]
  },
  {
   "cell_type": "markdown",
   "id": "requested-landing",
   "metadata": {},
   "source": [
    "## Data Cleaning and Preperation"
   ]
  },
  {
   "cell_type": "code",
   "execution_count": 3,
   "id": "advisory-duncan",
   "metadata": {},
   "outputs": [
    {
     "data": {
      "text/html": [
       "<div>\n",
       "<style scoped>\n",
       "    .dataframe tbody tr th:only-of-type {\n",
       "        vertical-align: middle;\n",
       "    }\n",
       "\n",
       "    .dataframe tbody tr th {\n",
       "        vertical-align: top;\n",
       "    }\n",
       "\n",
       "    .dataframe thead th {\n",
       "        text-align: right;\n",
       "    }\n",
       "</style>\n",
       "<table border=\"1\" class=\"dataframe\">\n",
       "  <thead>\n",
       "    <tr style=\"text-align: right;\">\n",
       "      <th></th>\n",
       "      <th>SqFt</th>\n",
       "      <th>Sell Price</th>\n",
       "    </tr>\n",
       "  </thead>\n",
       "  <tbody>\n",
       "    <tr>\n",
       "      <th>0</th>\n",
       "      <td>2190</td>\n",
       "      <td>4700</td>\n",
       "    </tr>\n",
       "    <tr>\n",
       "      <th>1</th>\n",
       "      <td>2170</td>\n",
       "      <td>4600</td>\n",
       "    </tr>\n",
       "    <tr>\n",
       "      <th>2</th>\n",
       "      <td>2150</td>\n",
       "      <td>4350</td>\n",
       "    </tr>\n",
       "    <tr>\n",
       "      <th>3</th>\n",
       "      <td>1837</td>\n",
       "      <td>4125</td>\n",
       "    </tr>\n",
       "    <tr>\n",
       "      <th>4</th>\n",
       "      <td>1880</td>\n",
       "      <td>3810</td>\n",
       "    </tr>\n",
       "  </tbody>\n",
       "</table>\n",
       "</div>"
      ],
      "text/plain": [
       "   SqFt  Sell Price\n",
       "0  2190        4700\n",
       "1  2170        4600\n",
       "2  2150        4350\n",
       "3  1837        4125\n",
       "4  1880        3810"
      ]
     },
     "execution_count": 3,
     "metadata": {},
     "output_type": "execute_result"
    }
   ],
   "source": [
    "df.head()"
   ]
  },
  {
   "cell_type": "code",
   "execution_count": 4,
   "id": "interpreted-forward",
   "metadata": {},
   "outputs": [
    {
     "data": {
      "text/plain": [
       "Index(['SqFt', 'Sell Price'], dtype='object')"
      ]
     },
     "execution_count": 4,
     "metadata": {},
     "output_type": "execute_result"
    }
   ],
   "source": [
    "df.columns"
   ]
  },
  {
   "cell_type": "code",
   "execution_count": 5,
   "id": "incredible-printing",
   "metadata": {},
   "outputs": [
    {
     "data": {
      "text/plain": [
       "SqFt          int64\n",
       "Sell Price    int64\n",
       "dtype: object"
      ]
     },
     "execution_count": 5,
     "metadata": {},
     "output_type": "execute_result"
    }
   ],
   "source": [
    "df.dtypes"
   ]
  },
  {
   "cell_type": "markdown",
   "id": "continent-muslim",
   "metadata": {},
   "source": [
    "Two types of attributes are here having same datatypes"
   ]
  },
  {
   "cell_type": "code",
   "execution_count": 6,
   "id": "assigned-overview",
   "metadata": {},
   "outputs": [
    {
     "data": {
      "text/plain": [
       "SqFt          0\n",
       "Sell Price    0\n",
       "dtype: int64"
      ]
     },
     "execution_count": 6,
     "metadata": {},
     "output_type": "execute_result"
    }
   ],
   "source": [
    "df.isnull().sum()"
   ]
  },
  {
   "cell_type": "markdown",
   "id": "developed-negotiation",
   "metadata": {},
   "source": [
    "No Null value exists in the data so we keep the data as it is."
   ]
  },
  {
   "cell_type": "code",
   "execution_count": 7,
   "id": "universal-provider",
   "metadata": {},
   "outputs": [
    {
     "data": {
      "text/html": [
       "<div>\n",
       "<style scoped>\n",
       "    .dataframe tbody tr th:only-of-type {\n",
       "        vertical-align: middle;\n",
       "    }\n",
       "\n",
       "    .dataframe tbody tr th {\n",
       "        vertical-align: top;\n",
       "    }\n",
       "\n",
       "    .dataframe thead th {\n",
       "        text-align: right;\n",
       "    }\n",
       "</style>\n",
       "<table border=\"1\" class=\"dataframe\">\n",
       "  <thead>\n",
       "    <tr style=\"text-align: right;\">\n",
       "      <th></th>\n",
       "      <th>SqFt</th>\n",
       "      <th>Sell Price</th>\n",
       "    </tr>\n",
       "  </thead>\n",
       "  <tbody>\n",
       "    <tr>\n",
       "      <th>count</th>\n",
       "      <td>36.000000</td>\n",
       "      <td>36.000000</td>\n",
       "    </tr>\n",
       "    <tr>\n",
       "      <th>mean</th>\n",
       "      <td>1785.888889</td>\n",
       "      <td>3640.333333</td>\n",
       "    </tr>\n",
       "    <tr>\n",
       "      <th>std</th>\n",
       "      <td>257.582583</td>\n",
       "      <td>486.493988</td>\n",
       "    </tr>\n",
       "    <tr>\n",
       "      <th>min</th>\n",
       "      <td>1360.000000</td>\n",
       "      <td>2914.000000</td>\n",
       "    </tr>\n",
       "    <tr>\n",
       "      <th>25%</th>\n",
       "      <td>1587.500000</td>\n",
       "      <td>3287.500000</td>\n",
       "    </tr>\n",
       "    <tr>\n",
       "      <th>50%</th>\n",
       "      <td>1780.000000</td>\n",
       "      <td>3592.500000</td>\n",
       "    </tr>\n",
       "    <tr>\n",
       "      <th>75%</th>\n",
       "      <td>2001.250000</td>\n",
       "      <td>4000.500000</td>\n",
       "    </tr>\n",
       "    <tr>\n",
       "      <th>max</th>\n",
       "      <td>2190.000000</td>\n",
       "      <td>4700.000000</td>\n",
       "    </tr>\n",
       "  </tbody>\n",
       "</table>\n",
       "</div>"
      ],
      "text/plain": [
       "              SqFt   Sell Price\n",
       "count    36.000000    36.000000\n",
       "mean   1785.888889  3640.333333\n",
       "std     257.582583   486.493988\n",
       "min    1360.000000  2914.000000\n",
       "25%    1587.500000  3287.500000\n",
       "50%    1780.000000  3592.500000\n",
       "75%    2001.250000  4000.500000\n",
       "max    2190.000000  4700.000000"
      ]
     },
     "execution_count": 7,
     "metadata": {},
     "output_type": "execute_result"
    }
   ],
   "source": [
    "df.describe()"
   ]
  },
  {
   "cell_type": "markdown",
   "id": "immediate-bolivia",
   "metadata": {},
   "source": [
    "## Checking Outliers"
   ]
  },
  {
   "cell_type": "markdown",
   "id": "conservative-identity",
   "metadata": {},
   "source": [
    "Boxplot is used to check the presence of outliers"
   ]
  },
  {
   "cell_type": "code",
   "execution_count": 8,
   "id": "after-modem",
   "metadata": {},
   "outputs": [
    {
     "data": {
      "text/plain": [
       "<AxesSubplot:>"
      ]
     },
     "execution_count": 8,
     "metadata": {},
     "output_type": "execute_result"
    },
    {
     "data": {
      "image/png": "[encoded data removed]",
      "text/plain": [
       "<Figure size 432x288 with 1 Axes>"
      ]
     },
     "metadata": {
      "needs_background": "light"
     },
     "output_type": "display_data"
    }
   ],
   "source": [
    "df['SqFt'].plot.box()"
   ]
  },
  {
   "cell_type": "code",
   "execution_count": 9,
   "id": "herbal-thesis",
   "metadata": {},
   "outputs": [
    {
     "data": {
      "text/plain": [
       "<AxesSubplot:>"
      ]
     },
     "execution_count": 9,
     "metadata": {},
     "output_type": "execute_result"
    },
    {
     "data": {
      "image/png": "[encoded data removed]",
      "text/plain": [
       "<Figure size 432x288 with 1 Axes>"
      ]
     },
     "metadata": {
      "needs_background": "light"
     },
     "output_type": "display_data"
    }
   ],
   "source": [
    "df['Sell Price'].plot.box()"
   ]
  },
  {
   "cell_type": "markdown",
   "id": "textile-grace",
   "metadata": {},
   "source": [
    "Here no outliers are found in the dataset"
   ]
  },
  {
   "cell_type": "markdown",
   "id": "protective-holmes",
   "metadata": {},
   "source": [
    "## Data Analysis and Visualization "
   ]
  },
  {
   "cell_type": "markdown",
   "id": "musical-winning",
   "metadata": {},
   "source": [
    "analyze the data using graph"
   ]
  },
  {
   "cell_type": "code",
   "execution_count": 10,
   "id": "latin-rendering",
   "metadata": {},
   "outputs": [
    {
     "data": {
      "text/plain": [
       "<AxesSubplot:xlabel='SqFt', ylabel='Sell Price'>"
      ]
     },
     "execution_count": 10,
     "metadata": {},
     "output_type": "execute_result"
    },
    {
     "data": {
      "image/png": "[encoded data removed]",
      "text/plain": [
       "<Figure size 432x288 with 1 Axes>"
      ]
     },
     "metadata": {
      "needs_background": "light"
     },
     "output_type": "display_data"
    }
   ],
   "source": [
    "df.plot.scatter('SqFt','Sell Price', color='r')"
   ]
  },
  {
   "cell_type": "markdown",
   "id": "possible-cholesterol",
   "metadata": {},
   "source": [
    "From the above graph it is clear that there is a positive linear relationship between the two variabes which can also be confirmed by finding the correalation between the two"
   ]
  },
  {
   "cell_type": "code",
   "execution_count": 11,
   "id": "muslim-market",
   "metadata": {},
   "outputs": [
    {
     "data": {
      "text/html": [
       "<div>\n",
       "<style scoped>\n",
       "    .dataframe tbody tr th:only-of-type {\n",
       "        vertical-align: middle;\n",
       "    }\n",
       "\n",
       "    .dataframe tbody tr th {\n",
       "        vertical-align: top;\n",
       "    }\n",
       "\n",
       "    .dataframe thead th {\n",
       "        text-align: right;\n",
       "    }\n",
       "</style>\n",
       "<table border=\"1\" class=\"dataframe\">\n",
       "  <thead>\n",
       "    <tr style=\"text-align: right;\">\n",
       "      <th></th>\n",
       "      <th>SqFt</th>\n",
       "      <th>Sell Price</th>\n",
       "    </tr>\n",
       "  </thead>\n",
       "  <tbody>\n",
       "    <tr>\n",
       "      <th>SqFt</th>\n",
       "      <td>1.000000</td>\n",
       "      <td>0.931672</td>\n",
       "    </tr>\n",
       "    <tr>\n",
       "      <th>Sell Price</th>\n",
       "      <td>0.931672</td>\n",
       "      <td>1.000000</td>\n",
       "    </tr>\n",
       "  </tbody>\n",
       "</table>\n",
       "</div>"
      ],
      "text/plain": [
       "                SqFt  Sell Price\n",
       "SqFt        1.000000    0.931672\n",
       "Sell Price  0.931672    1.000000"
      ]
     },
     "execution_count": 11,
     "metadata": {},
     "output_type": "execute_result"
    }
   ],
   "source": [
    "df.corr()"
   ]
  },
  {
   "cell_type": "markdown",
   "id": "impossible-tournament",
   "metadata": {},
   "source": [
    "## Model Building "
   ]
  },
  {
   "cell_type": "markdown",
   "id": "frank-document",
   "metadata": {},
   "source": [
    "Here the data will be divided into train and test data and simple linear-regression model will be performed for this problem. "
   ]
  },
  {
   "cell_type": "code",
   "execution_count": 12,
   "id": "ambient-toronto",
   "metadata": {},
   "outputs": [],
   "source": [
    "x=df.drop('SqFt',axis=1)\n",
    "y=df['SqFt']"
   ]
  },
  {
   "cell_type": "code",
   "execution_count": 13,
   "id": "useful-fight",
   "metadata": {},
   "outputs": [
    {
     "data": {
      "text/plain": [
       "(36, 1)"
      ]
     },
     "execution_count": 13,
     "metadata": {},
     "output_type": "execute_result"
    }
   ],
   "source": [
    "x.shape"
   ]
  },
  {
   "cell_type": "code",
   "execution_count": 14,
   "id": "working-height",
   "metadata": {
    "scrolled": true
   },
   "outputs": [
    {
     "data": {
      "text/plain": [
       "(36,)"
      ]
     },
     "execution_count": 14,
     "metadata": {},
     "output_type": "execute_result"
    }
   ],
   "source": [
    "y.shape"
   ]
  },
  {
   "cell_type": "code",
   "execution_count": 15,
   "id": "brave-delhi",
   "metadata": {},
   "outputs": [],
   "source": [
    "from sklearn.model_selection import train_test_split\n",
    "train_x, test_x, train_y, test_y = train_test_split(x,y,random_state = 0)"
   ]
  },
  {
   "cell_type": "markdown",
   "id": "supported-behalf",
   "metadata": {},
   "source": [
    "## Training the Model "
   ]
  },
  {
   "cell_type": "markdown",
   "id": "chinese-shepherd",
   "metadata": {},
   "source": [
    "Here the data will be fitted in the linear-regression model"
   ]
  },
  {
   "cell_type": "code",
   "execution_count": 16,
   "id": "proprietary-favor",
   "metadata": {},
   "outputs": [
    {
     "data": {
      "text/plain": [
       "LinearRegression()"
      ]
     },
     "execution_count": 16,
     "metadata": {},
     "output_type": "execute_result"
    }
   ],
   "source": [
    "from sklearn.linear_model import LinearRegression\n",
    "lreg = LinearRegression()\n",
    "lreg.fit(train_x,train_y)"
   ]
  },
  {
   "cell_type": "markdown",
   "id": "environmental-master",
   "metadata": {},
   "source": [
    "## Model Visualization "
   ]
  },
  {
   "cell_type": "markdown",
   "id": "crazy-stock",
   "metadata": {},
   "source": [
    "The regression line has equation :    $ y = b_{0} + b_{1}x $"
   ]
  },
  {
   "cell_type": "code",
   "execution_count": 17,
   "id": "sitting-interpretation",
   "metadata": {},
   "outputs": [
    {
     "data": {
      "image/png": "[encoded data removed]",
      "text/plain": [
       "<Figure size 432x288 with 1 Axes>"
      ]
     },
     "metadata": {
      "needs_background": "light"
     },
     "output_type": "display_data"
    }
   ],
   "source": [
    "reg_line = lreg.intercept_ + lreg.coef_*x\n",
    "plt.scatter(train_x, train_y, color='g')\n",
    "plt.plot(x, reg_line)\n",
    "plt.show()"
   ]
  },
  {
   "cell_type": "markdown",
   "id": "handled-validity",
   "metadata": {},
   "source": [
    "## Prediction "
   ]
  },
  {
   "cell_type": "markdown",
   "id": "absent-roommate",
   "metadata": {},
   "source": [
    "The training and visualisation of the model is done so now the prediction is to be performed."
   ]
  },
  {
   "cell_type": "code",
   "execution_count": 18,
   "id": "acknowledged-charge",
   "metadata": {},
   "outputs": [
    {
     "data": {
      "text/plain": [
       "array([1953.36175446, 1831.06254954, 1443.46814628, 1775.08714422,\n",
       "       1949.12832044, 1443.46814628, 1739.80852741, 2113.76186552,\n",
       "       1633.97267701])"
      ]
     },
     "execution_count": 18,
     "metadata": {},
     "output_type": "execute_result"
    }
   ],
   "source": [
    "pred = lreg.predict(test_x)\n",
    "pred"
   ]
  },
  {
   "cell_type": "code",
   "execution_count": 19,
   "id": "resident-glory",
   "metadata": {},
   "outputs": [
    {
     "data": {
      "text/plain": [
       "31    2100\n",
       "20    2000\n",
       "16    1360\n",
       "30    1700\n",
       "22    2002\n",
       "15    1430\n",
       "10    1725\n",
       "2     2150\n",
       "11    1630\n",
       "Name: SqFt, dtype: int64"
      ]
     },
     "execution_count": 19,
     "metadata": {},
     "output_type": "execute_result"
    }
   ],
   "source": [
    "test_y"
   ]
  },
  {
   "cell_type": "code",
   "execution_count": 21,
   "id": "varied-fluid",
   "metadata": {},
   "outputs": [
    {
     "data": {
      "text/html": [
       "<div>\n",
       "<style scoped>\n",
       "    .dataframe tbody tr th:only-of-type {\n",
       "        vertical-align: middle;\n",
       "    }\n",
       "\n",
       "    .dataframe tbody tr th {\n",
       "        vertical-align: top;\n",
       "    }\n",
       "\n",
       "    .dataframe thead th {\n",
       "        text-align: right;\n",
       "    }\n",
       "</style>\n",
       "<table border=\"1\" class=\"dataframe\">\n",
       "  <thead>\n",
       "    <tr style=\"text-align: right;\">\n",
       "      <th></th>\n",
       "      <th>Actual Sell Price</th>\n",
       "      <th>Predected Sell Price</th>\n",
       "    </tr>\n",
       "  </thead>\n",
       "  <tbody>\n",
       "    <tr>\n",
       "      <th>0</th>\n",
       "      <td>2100</td>\n",
       "      <td>1953.361754</td>\n",
       "    </tr>\n",
       "    <tr>\n",
       "      <th>1</th>\n",
       "      <td>2000</td>\n",
       "      <td>1831.062550</td>\n",
       "    </tr>\n",
       "    <tr>\n",
       "      <th>2</th>\n",
       "      <td>1360</td>\n",
       "      <td>1443.468146</td>\n",
       "    </tr>\n",
       "    <tr>\n",
       "      <th>3</th>\n",
       "      <td>1700</td>\n",
       "      <td>1775.087144</td>\n",
       "    </tr>\n",
       "    <tr>\n",
       "      <th>4</th>\n",
       "      <td>2002</td>\n",
       "      <td>1949.128320</td>\n",
       "    </tr>\n",
       "    <tr>\n",
       "      <th>5</th>\n",
       "      <td>1430</td>\n",
       "      <td>1443.468146</td>\n",
       "    </tr>\n",
       "    <tr>\n",
       "      <th>6</th>\n",
       "      <td>1725</td>\n",
       "      <td>1739.808527</td>\n",
       "    </tr>\n",
       "    <tr>\n",
       "      <th>7</th>\n",
       "      <td>2150</td>\n",
       "      <td>2113.761866</td>\n",
       "    </tr>\n",
       "    <tr>\n",
       "      <th>8</th>\n",
       "      <td>1630</td>\n",
       "      <td>1633.972677</td>\n",
       "    </tr>\n",
       "  </tbody>\n",
       "</table>\n",
       "</div>"
      ],
      "text/plain": [
       "   Actual Sell Price  Predected Sell Price\n",
       "0               2100           1953.361754\n",
       "1               2000           1831.062550\n",
       "2               1360           1443.468146\n",
       "3               1700           1775.087144\n",
       "4               2002           1949.128320\n",
       "5               1430           1443.468146\n",
       "6               1725           1739.808527\n",
       "7               2150           2113.761866\n",
       "8               1630           1633.972677"
      ]
     },
     "execution_count": 21,
     "metadata": {},
     "output_type": "execute_result"
    }
   ],
   "source": [
    "df = pd.DataFrame({'Actual Sell Price':np.array(test_y), 'Predected Sell Price':pred})\n",
    "df"
   ]
  },
  {
   "cell_type": "markdown",
   "id": "southeast-yugoslavia",
   "metadata": {},
   "source": [
    "Now the prediction of Sell Price($) is to be made on the given Sq.ft of land "
   ]
  },
  {
   "cell_type": "code",
   "execution_count": 22,
   "id": "liable-major",
   "metadata": {},
   "outputs": [
    {
     "data": {
      "text/plain": [
       "array([1539.89636554])"
      ]
     },
     "execution_count": 22,
     "metadata": {},
     "output_type": "execute_result"
    }
   ],
   "source": [
    "squareft= 3130\n",
    "pred_SellPrice=lreg.predict([[squareft]])\n",
    "pred_SellPrice"
   ]
  },
  {
   "cell_type": "markdown",
   "id": "dying-baking",
   "metadata": {},
   "source": [
    "Thus, here it can be seen that the price for 3130sqft will be around $1539.9 "
   ]
  },
  {
   "cell_type": "markdown",
   "id": "located-violin",
   "metadata": {},
   "source": [
    "## Model Evaluation "
   ]
  },
  {
   "cell_type": "markdown",
   "id": "constitutional-germany",
   "metadata": {},
   "source": [
    "Model evaluation is performed to check wheather the predicted model is correct or not."
   ]
  },
  {
   "cell_type": "code",
   "execution_count": 23,
   "id": "monetary-actress",
   "metadata": {},
   "outputs": [
    {
     "data": {
      "text/plain": [
       "0.8993139353694796"
      ]
     },
     "execution_count": 23,
     "metadata": {},
     "output_type": "execute_result"
    }
   ],
   "source": [
    "lreg.score(test_x, test_y)"
   ]
  },
  {
   "cell_type": "code",
   "execution_count": 24,
   "id": "sapphire-vegetable",
   "metadata": {},
   "outputs": [
    {
     "data": {
      "text/plain": [
       "0.8519945023294788"
      ]
     },
     "execution_count": 24,
     "metadata": {},
     "output_type": "execute_result"
    }
   ],
   "source": [
    "lreg.score(train_x, train_y)"
   ]
  },
  {
   "cell_type": "markdown",
   "id": "generous-peace",
   "metadata": {},
   "source": [
    "As it is seen that the $ r^2 $ value of training and the test data is almost closer to each other, we can conclude that the predicted model, is quite perfect. \n",
    "\n",
    "Now its required to find the mean squared error.\n",
    "Less error represents that the model is well fitted."
   ]
  },
  {
   "cell_type": "code",
   "execution_count": 25,
   "id": "brief-registration",
   "metadata": {},
   "outputs": [
    {
     "data": {
      "text/plain": [
       "7463.636710325861"
      ]
     },
     "execution_count": 25,
     "metadata": {},
     "output_type": "execute_result"
    }
   ],
   "source": [
    "from sklearn import metrics \n",
    "metrics.mean_squared_error(test_y, pred)"
   ]
  },
  {
   "cell_type": "markdown",
   "id": "separated-mills",
   "metadata": {},
   "source": [
    "# Result"
   ]
  },
  {
   "cell_type": "markdown",
   "id": "vanilla-isolation",
   "metadata": {},
   "source": [
    "### For 3130sq.ft of land, about 1539.9 dollars will be the selling price that has to be spent. "
   ]
  }
 ],
 "metadata": {
  "kernelspec": {
   "display_name": "Python 3",
   "language": "python",
   "name": "python3"
  },
  "language_info": {
   "codemirror_mode": {
    "name": "ipython",
    "version": 3
   },
   "file_extension": ".py",
   "mimetype": "text/x-python",
   "name": "python",
   "nbconvert_exporter": "python",
   "pygments_lexer": "ipython3",
   "version": "3.9.7"
  }
 },
 "nbformat": 4,
 "nbformat_minor": 5
}
