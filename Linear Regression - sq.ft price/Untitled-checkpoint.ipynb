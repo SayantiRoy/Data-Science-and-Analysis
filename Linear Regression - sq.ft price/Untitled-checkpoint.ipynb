{
 "cells": [
  {
   "cell_type": "markdown",
   "id": "handled-desperate",
   "metadata": {},
   "source": [
    "# In this task prediction is done on the Sell Price based on Square feet of an area using Linear-Regression method\n",
    "## Import Libraries and Data"
   ]
  },
  {
   "cell_type": "code",
   "execution_count": 827,
   "id": "portuguese-learning",
   "metadata": {},
   "outputs": [],
   "source": [
    "import pandas as pd\n",
    "import numpy as np\n",
    "import matplotlib.pyplot as plt\n",
    "%matplotlib inline"
   ]
  },
  {
   "cell_type": "code",
   "execution_count": 828,
   "id": "postal-proposition",
   "metadata": {},
   "outputs": [],
   "source": [
    "df = pd.read_csv('data.csv')"
   ]
  },
  {
   "cell_type": "markdown",
   "id": "requested-landing",
   "metadata": {},
   "source": [
    "## Data Cleaning and Preperation"
   ]
  },
  {
   "cell_type": "code",
   "execution_count": 829,
   "id": "advisory-duncan",
   "metadata": {},
   "outputs": [
    {
     "data": {
      "text/html": [
       "<div>\n",
       "<style scoped>\n",
       "    .dataframe tbody tr th:only-of-type {\n",
       "        vertical-align: middle;\n",
       "    }\n",
       "\n",
       "    .dataframe tbody tr th {\n",
       "        vertical-align: top;\n",
       "    }\n",
       "\n",
       "    .dataframe thead th {\n",
       "        text-align: right;\n",
       "    }\n",
       "</style>\n",
       "<table border=\"1\" class=\"dataframe\">\n",
       "  <thead>\n",
       "    <tr style=\"text-align: right;\">\n",
       "      <th></th>\n",
       "      <th>SqFt</th>\n",
       "      <th>Sell Price</th>\n",
       "    </tr>\n",
       "  </thead>\n",
       "  <tbody>\n",
       "    <tr>\n",
       "      <th>0</th>\n",
       "      <td>2190</td>\n",
       "      <td>4700</td>\n",
       "    </tr>\n",
       "    <tr>\n",
       "      <th>1</th>\n",
       "      <td>2180</td>\n",
       "      <td>4678</td>\n",
       "    </tr>\n",
       "    <tr>\n",
       "      <th>2</th>\n",
       "      <td>2170</td>\n",
       "      <td>4600</td>\n",
       "    </tr>\n",
       "    <tr>\n",
       "      <th>3</th>\n",
       "      <td>2150</td>\n",
       "      <td>4500</td>\n",
       "    </tr>\n",
       "    <tr>\n",
       "      <th>4</th>\n",
       "      <td>2140</td>\n",
       "      <td>4480</td>\n",
       "    </tr>\n",
       "  </tbody>\n",
       "</table>\n",
       "</div>"
      ],
      "text/plain": [
       "   SqFt  Sell Price\n",
       "0  2190        4700\n",
       "1  2180        4678\n",
       "2  2170        4600\n",
       "3  2150        4500\n",
       "4  2140        4480"
      ]
     },
     "execution_count": 829,
     "metadata": {},
     "output_type": "execute_result"
    }
   ],
   "source": [
    "df.head()"
   ]
  },
  {
   "cell_type": "code",
   "execution_count": 830,
   "id": "interpreted-forward",
   "metadata": {},
   "outputs": [
    {
     "data": {
      "text/plain": [
       "Index(['SqFt', 'Sell Price'], dtype='object')"
      ]
     },
     "execution_count": 830,
     "metadata": {},
     "output_type": "execute_result"
    }
   ],
   "source": [
    "df.columns"
   ]
  },
  {
   "cell_type": "code",
   "execution_count": 831,
   "id": "incredible-printing",
   "metadata": {},
   "outputs": [
    {
     "data": {
      "text/plain": [
       "SqFt          int64\n",
       "Sell Price    int64\n",
       "dtype: object"
      ]
     },
     "execution_count": 831,
     "metadata": {},
     "output_type": "execute_result"
    }
   ],
   "source": [
    "df.dtypes"
   ]
  },
  {
   "cell_type": "markdown",
   "id": "continent-muslim",
   "metadata": {},
   "source": [
    "Two types of attributes are here having same datatypes"
   ]
  },
  {
   "cell_type": "code",
   "execution_count": 832,
   "id": "assigned-overview",
   "metadata": {},
   "outputs": [
    {
     "data": {
      "text/plain": [
       "SqFt          0\n",
       "Sell Price    0\n",
       "dtype: int64"
      ]
     },
     "execution_count": 832,
     "metadata": {},
     "output_type": "execute_result"
    }
   ],
   "source": [
    "df.isnull().sum()"
   ]
  },
  {
   "cell_type": "markdown",
   "id": "developed-negotiation",
   "metadata": {},
   "source": [
    "No Null value exists in the data so we keep the data as it is."
   ]
  },
  {
   "cell_type": "code",
   "execution_count": 833,
   "id": "universal-provider",
   "metadata": {},
   "outputs": [
    {
     "data": {
      "text/html": [
       "<div>\n",
       "<style scoped>\n",
       "    .dataframe tbody tr th:only-of-type {\n",
       "        vertical-align: middle;\n",
       "    }\n",
       "\n",
       "    .dataframe tbody tr th {\n",
       "        vertical-align: top;\n",
       "    }\n",
       "\n",
       "    .dataframe thead th {\n",
       "        text-align: right;\n",
       "    }\n",
       "</style>\n",
       "<table border=\"1\" class=\"dataframe\">\n",
       "  <thead>\n",
       "    <tr style=\"text-align: right;\">\n",
       "      <th></th>\n",
       "      <th>SqFt</th>\n",
       "      <th>Sell Price</th>\n",
       "    </tr>\n",
       "  </thead>\n",
       "  <tbody>\n",
       "    <tr>\n",
       "      <th>count</th>\n",
       "      <td>40.000000</td>\n",
       "      <td>40.000000</td>\n",
       "    </tr>\n",
       "    <tr>\n",
       "      <th>mean</th>\n",
       "      <td>1875.350000</td>\n",
       "      <td>3286.750000</td>\n",
       "    </tr>\n",
       "    <tr>\n",
       "      <th>std</th>\n",
       "      <td>193.822355</td>\n",
       "      <td>868.116581</td>\n",
       "    </tr>\n",
       "    <tr>\n",
       "      <th>min</th>\n",
       "      <td>1576.000000</td>\n",
       "      <td>1948.000000</td>\n",
       "    </tr>\n",
       "    <tr>\n",
       "      <th>25%</th>\n",
       "      <td>1707.750000</td>\n",
       "      <td>2537.000000</td>\n",
       "    </tr>\n",
       "    <tr>\n",
       "      <th>50%</th>\n",
       "      <td>1873.500000</td>\n",
       "      <td>3278.000000</td>\n",
       "    </tr>\n",
       "    <tr>\n",
       "      <th>75%</th>\n",
       "      <td>2039.250000</td>\n",
       "      <td>4019.000000</td>\n",
       "    </tr>\n",
       "    <tr>\n",
       "      <th>max</th>\n",
       "      <td>2190.000000</td>\n",
       "      <td>4700.000000</td>\n",
       "    </tr>\n",
       "  </tbody>\n",
       "</table>\n",
       "</div>"
      ],
      "text/plain": [
       "              SqFt   Sell Price\n",
       "count    40.000000    40.000000\n",
       "mean   1875.350000  3286.750000\n",
       "std     193.822355   868.116581\n",
       "min    1576.000000  1948.000000\n",
       "25%    1707.750000  2537.000000\n",
       "50%    1873.500000  3278.000000\n",
       "75%    2039.250000  4019.000000\n",
       "max    2190.000000  4700.000000"
      ]
     },
     "execution_count": 833,
     "metadata": {},
     "output_type": "execute_result"
    }
   ],
   "source": [
    "df.describe()"
   ]
  },
  {
   "cell_type": "markdown",
   "id": "immediate-bolivia",
   "metadata": {},
   "source": [
    "## Checking Outliers"
   ]
  },
  {
   "cell_type": "markdown",
   "id": "conservative-identity",
   "metadata": {},
   "source": [
    "Boxplot is used to check the presence of outliers"
   ]
  },
  {
   "cell_type": "code",
   "execution_count": 834,
   "id": "after-modem",
   "metadata": {},
   "outputs": [
    {
     "data": {
      "text/plain": [
       "<AxesSubplot:>"
      ]
     },
     "execution_count": 834,
     "metadata": {},
     "output_type": "execute_result"
    },
    {
     "data": {
      "image/png": "[encoded data removed]",
      "text/plain": [
       "<Figure size 432x288 with 1 Axes>"
      ]
     },
     "metadata": {
      "needs_background": "light"
     },
     "output_type": "display_data"
    }
   ],
   "source": [
    "df['SqFt'].plot.box()"
   ]
  },
  {
   "cell_type": "code",
   "execution_count": 835,
   "id": "herbal-thesis",
   "metadata": {},
   "outputs": [
    {
     "data": {
      "text/plain": [
       "<AxesSubplot:>"
      ]
     },
     "execution_count": 835,
     "metadata": {},
     "output_type": "execute_result"
    },
    {
     "data": {
      "image/png": "[encoded data removed]",
      "text/plain": [
       "<Figure size 432x288 with 1 Axes>"
      ]
     },
     "metadata": {
      "needs_background": "light"
     },
     "output_type": "display_data"
    }
   ],
   "source": [
    "df['Sell Price'].plot.box()"
   ]
  },
  {
   "cell_type": "markdown",
   "id": "textile-grace",
   "metadata": {},
   "source": [
    "Here no outliers are found in the dataset"
   ]
  },
  {
   "cell_type": "markdown",
   "id": "protective-holmes",
   "metadata": {},
   "source": [
    "## Data Analysis and Visualization "
   ]
  },
  {
   "cell_type": "markdown",
   "id": "musical-winning",
   "metadata": {},
   "source": [
    "analyze the data using graph"
   ]
  },
  {
   "cell_type": "code",
   "execution_count": 836,
   "id": "latin-rendering",
   "metadata": {},
   "outputs": [
    {
     "data": {
      "text/plain": [
       "<AxesSubplot:xlabel='SqFt', ylabel='Sell Price'>"
      ]
     },
     "execution_count": 836,
     "metadata": {},
     "output_type": "execute_result"
    },
    {
     "data": {
      "image/png": "[encoded data removed]",
      "text/plain": [
       "<Figure size 432x288 with 1 Axes>"
      ]
     },
     "metadata": {
      "needs_background": "light"
     },
     "output_type": "display_data"
    }
   ],
   "source": [
    "df.plot.scatter('SqFt','Sell Price', color='r')"
   ]
  },
  {
   "cell_type": "markdown",
   "id": "possible-cholesterol",
   "metadata": {},
   "source": [
    "From the above graph it is clear that there is a positive linear relationship between the two variabes which can also be confirmed by finding the correalation between the two"
   ]
  },
  {
   "cell_type": "code",
   "execution_count": 837,
   "id": "animated-communist",
   "metadata": {},
   "outputs": [
    {
     "data": {
      "text/plain": [
       "<function matplotlib.pyplot.show(close=None, block=None)>"
      ]
     },
     "execution_count": 837,
     "metadata": {},
     "output_type": "execute_result"
    },
    {
     "data": {
      "image/png": "[encoded data removed]",
      "text/plain": [
       "<Figure size 432x288 with 1 Axes>"
      ]
     },
     "metadata": {
      "needs_background": "light"
     },
     "output_type": "display_data"
    }
   ],
   "source": [
    "plt.scatter(x, y, c=y, cmap='Spectral')\n",
    "plt.xlabel('SqFt')\n",
    "plt.ylabel('Sell Price')\n",
    "plt.show"
   ]
  },
  {
   "cell_type": "code",
   "execution_count": 838,
   "id": "muslim-market",
   "metadata": {},
   "outputs": [
    {
     "data": {
      "text/html": [
       "<div>\n",
       "<style scoped>\n",
       "    .dataframe tbody tr th:only-of-type {\n",
       "        vertical-align: middle;\n",
       "    }\n",
       "\n",
       "    .dataframe tbody tr th {\n",
       "        vertical-align: top;\n",
       "    }\n",
       "\n",
       "    .dataframe thead th {\n",
       "        text-align: right;\n",
       "    }\n",
       "</style>\n",
       "<table border=\"1\" class=\"dataframe\">\n",
       "  <thead>\n",
       "    <tr style=\"text-align: right;\">\n",
       "      <th></th>\n",
       "      <th>SqFt</th>\n",
       "      <th>Sell Price</th>\n",
       "    </tr>\n",
       "  </thead>\n",
       "  <tbody>\n",
       "    <tr>\n",
       "      <th>SqFt</th>\n",
       "      <td>1.000000</td>\n",
       "      <td>0.999979</td>\n",
       "    </tr>\n",
       "    <tr>\n",
       "      <th>Sell Price</th>\n",
       "      <td>0.999979</td>\n",
       "      <td>1.000000</td>\n",
       "    </tr>\n",
       "  </tbody>\n",
       "</table>\n",
       "</div>"
      ],
      "text/plain": [
       "                SqFt  Sell Price\n",
       "SqFt        1.000000    0.999979\n",
       "Sell Price  0.999979    1.000000"
      ]
     },
     "execution_count": 838,
     "metadata": {},
     "output_type": "execute_result"
    }
   ],
   "source": [
    "df.corr()"
   ]
  },
  {
   "cell_type": "markdown",
   "id": "impossible-tournament",
   "metadata": {},
   "source": [
    "## Model Building "
   ]
  },
  {
   "cell_type": "markdown",
   "id": "frank-document",
   "metadata": {},
   "source": [
    "Here the data will be divided into train and test data and simple linear-regression model will be performed for this problem. "
   ]
  },
  {
   "cell_type": "code",
   "execution_count": 839,
   "id": "ambient-toronto",
   "metadata": {},
   "outputs": [],
   "source": [
    "x=df.drop('SqFt',axis=1)\n",
    "y=df['SqFt']"
   ]
  },
  {
   "cell_type": "code",
   "execution_count": 840,
   "id": "useful-fight",
   "metadata": {},
   "outputs": [
    {
     "data": {
      "text/plain": [
       "(40, 1)"
      ]
     },
     "execution_count": 840,
     "metadata": {},
     "output_type": "execute_result"
    }
   ],
   "source": [
    "x.shape"
   ]
  },
  {
   "cell_type": "code",
   "execution_count": 841,
   "id": "working-height",
   "metadata": {
    "scrolled": true
   },
   "outputs": [
    {
     "data": {
      "text/plain": [
       "(40,)"
      ]
     },
     "execution_count": 841,
     "metadata": {},
     "output_type": "execute_result"
    }
   ],
   "source": [
    "y.shape"
   ]
  },
  {
   "cell_type": "code",
   "execution_count": 842,
   "id": "brave-delhi",
   "metadata": {},
   "outputs": [],
   "source": [
    "from sklearn.model_selection import train_test_split\n",
    "train_x, test_x, train_y, test_y = train_test_split(x,y,random_state = 0)"
   ]
  },
  {
   "cell_type": "markdown",
   "id": "supported-behalf",
   "metadata": {},
   "source": [
    "## Training the Model "
   ]
  },
  {
   "cell_type": "markdown",
   "id": "chinese-shepherd",
   "metadata": {},
   "source": [
    "Here the data will be fitted in the linear-regression model"
   ]
  },
  {
   "cell_type": "code",
   "execution_count": 843,
   "id": "proprietary-favor",
   "metadata": {},
   "outputs": [
    {
     "data": {
      "text/plain": [
       "LinearRegression()"
      ]
     },
     "execution_count": 843,
     "metadata": {},
     "output_type": "execute_result"
    }
   ],
   "source": [
    "from sklearn.linear_model import LinearRegression\n",
    "lreg = LinearRegression()\n",
    "lreg.fit(train_x,train_y)"
   ]
  },
  {
   "cell_type": "markdown",
   "id": "environmental-master",
   "metadata": {},
   "source": [
    "## Model Visualization "
   ]
  },
  {
   "cell_type": "markdown",
   "id": "crazy-stock",
   "metadata": {},
   "source": [
    "The regression line has equation :    $ y = b_{0} + b_{1}x $"
   ]
  },
  {
   "cell_type": "code",
   "execution_count": 844,
   "id": "sitting-interpretation",
   "metadata": {},
   "outputs": [
    {
     "data": {
      "image/png": "[encoded data removed]",
      "text/plain": [
       "<Figure size 432x288 with 1 Axes>"
      ]
     },
     "metadata": {
      "needs_background": "light"
     },
     "output_type": "display_data"
    }
   ],
   "source": [
    "reg_line = lreg.intercept_ + lreg.coef_*x\n",
    "plt.scatter(train_x, train_y, color='g')\n",
    "plt.plot(x, reg_line)\n",
    "plt.show()"
   ]
  },
  {
   "cell_type": "markdown",
   "id": "handled-validity",
   "metadata": {},
   "source": [
    "## Prediction "
   ]
  },
  {
   "cell_type": "markdown",
   "id": "absent-roommate",
   "metadata": {},
   "source": [
    "The training and visualisation of the model is done so now the prediction is to be performed."
   ]
  },
  {
   "cell_type": "code",
   "execution_count": 845,
   "id": "acknowledged-charge",
   "metadata": {},
   "outputs": [
    {
     "data": {
      "text/plain": [
       "array([1830.99873692, 1864.94192065, 1780.08396133, 2141.84684054,\n",
       "       2034.65783929, 1949.79987997, 1729.16918574, 2017.68624743,\n",
       "       1898.88510438, 1712.19759388])"
      ]
     },
     "execution_count": 845,
     "metadata": {},
     "output_type": "execute_result"
    }
   ],
   "source": [
    "pred = lreg.predict(test_x)\n",
    "pred"
   ]
  },
  {
   "cell_type": "code",
   "execution_count": 846,
   "id": "resident-glory",
   "metadata": {},
   "outputs": [
    {
     "data": {
      "text/plain": [
       "22    1831\n",
       "20    1865\n",
       "25    1780\n",
       "4     2140\n",
       "10    2035\n",
       "15    1950\n",
       "28    1729\n",
       "11    2018\n",
       "18    1899\n",
       "29    1712\n",
       "Name: SqFt, dtype: int64"
      ]
     },
     "execution_count": 846,
     "metadata": {},
     "output_type": "execute_result"
    }
   ],
   "source": [
    "test_y"
   ]
  },
  {
   "cell_type": "code",
   "execution_count": 847,
   "id": "varied-fluid",
   "metadata": {},
   "outputs": [
    {
     "data": {
      "text/html": [
       "<div>\n",
       "<style scoped>\n",
       "    .dataframe tbody tr th:only-of-type {\n",
       "        vertical-align: middle;\n",
       "    }\n",
       "\n",
       "    .dataframe tbody tr th {\n",
       "        vertical-align: top;\n",
       "    }\n",
       "\n",
       "    .dataframe thead th {\n",
       "        text-align: right;\n",
       "    }\n",
       "</style>\n",
       "<table border=\"1\" class=\"dataframe\">\n",
       "  <thead>\n",
       "    <tr style=\"text-align: right;\">\n",
       "      <th></th>\n",
       "      <th>Actual Sell Price</th>\n",
       "      <th>Predected Sell Price</th>\n",
       "    </tr>\n",
       "  </thead>\n",
       "  <tbody>\n",
       "    <tr>\n",
       "      <th>0</th>\n",
       "      <td>1831</td>\n",
       "      <td>1830.998737</td>\n",
       "    </tr>\n",
       "    <tr>\n",
       "      <th>1</th>\n",
       "      <td>1865</td>\n",
       "      <td>1864.941921</td>\n",
       "    </tr>\n",
       "    <tr>\n",
       "      <th>2</th>\n",
       "      <td>1780</td>\n",
       "      <td>1780.083961</td>\n",
       "    </tr>\n",
       "    <tr>\n",
       "      <th>3</th>\n",
       "      <td>2140</td>\n",
       "      <td>2141.846841</td>\n",
       "    </tr>\n",
       "    <tr>\n",
       "      <th>4</th>\n",
       "      <td>2035</td>\n",
       "      <td>2034.657839</td>\n",
       "    </tr>\n",
       "    <tr>\n",
       "      <th>5</th>\n",
       "      <td>1950</td>\n",
       "      <td>1949.799880</td>\n",
       "    </tr>\n",
       "    <tr>\n",
       "      <th>6</th>\n",
       "      <td>1729</td>\n",
       "      <td>1729.169186</td>\n",
       "    </tr>\n",
       "    <tr>\n",
       "      <th>7</th>\n",
       "      <td>2018</td>\n",
       "      <td>2017.686247</td>\n",
       "    </tr>\n",
       "    <tr>\n",
       "      <th>8</th>\n",
       "      <td>1899</td>\n",
       "      <td>1898.885104</td>\n",
       "    </tr>\n",
       "    <tr>\n",
       "      <th>9</th>\n",
       "      <td>1712</td>\n",
       "      <td>1712.197594</td>\n",
       "    </tr>\n",
       "  </tbody>\n",
       "</table>\n",
       "</div>"
      ],
      "text/plain": [
       "   Actual Sell Price  Predected Sell Price\n",
       "0               1831           1830.998737\n",
       "1               1865           1864.941921\n",
       "2               1780           1780.083961\n",
       "3               2140           2141.846841\n",
       "4               2035           2034.657839\n",
       "5               1950           1949.799880\n",
       "6               1729           1729.169186\n",
       "7               2018           2017.686247\n",
       "8               1899           1898.885104\n",
       "9               1712           1712.197594"
      ]
     },
     "execution_count": 847,
     "metadata": {},
     "output_type": "execute_result"
    }
   ],
   "source": [
    "df = pd.DataFrame({'Actual Sell Price':np.array(test_y), 'Predected Sell Price':pred})\n",
    "df"
   ]
  },
  {
   "cell_type": "markdown",
   "id": "southeast-yugoslavia",
   "metadata": {},
   "source": [
    "Now the prediction of Sell Price($) is to be made on the given Sq.ft of land "
   ]
  },
  {
   "cell_type": "code",
   "execution_count": 848,
   "id": "liable-major",
   "metadata": {},
   "outputs": [
    {
     "data": {
      "text/plain": [
       "array([1840.37777453])"
      ]
     },
     "execution_count": 848,
     "metadata": {},
     "output_type": "execute_result"
    }
   ],
   "source": [
    "squareft= 3130\n",
    "pred_SellPrice=lreg.predict([[squareft]])\n",
    "pred_SellPrice"
   ]
  },
  {
   "cell_type": "markdown",
   "id": "dying-baking",
   "metadata": {},
   "source": [
    "Thus, here it can be seen that the price for 3130sqft will be around $1840.378 "
   ]
  },
  {
   "cell_type": "markdown",
   "id": "located-violin",
   "metadata": {},
   "source": [
    "## Model Evaluation "
   ]
  },
  {
   "cell_type": "markdown",
   "id": "constitutional-germany",
   "metadata": {},
   "source": [
    "Model evaluation is performed to check wheather the predicted model is correct or not."
   ]
  },
  {
   "cell_type": "code",
   "execution_count": 849,
   "id": "monetary-actress",
   "metadata": {},
   "outputs": [
    {
     "data": {
      "text/plain": [
       "0.9999787765402243"
      ]
     },
     "execution_count": 849,
     "metadata": {},
     "output_type": "execute_result"
    }
   ],
   "source": [
    "lreg.score(test_x, test_y)"
   ]
  },
  {
   "cell_type": "code",
   "execution_count": 850,
   "id": "sapphire-vegetable",
   "metadata": {},
   "outputs": [
    {
     "data": {
      "text/plain": [
       "0.9999554630207523"
      ]
     },
     "execution_count": 850,
     "metadata": {},
     "output_type": "execute_result"
    }
   ],
   "source": [
    "lreg.score(train_x, train_y)"
   ]
  },
  {
   "cell_type": "markdown",
   "id": "generous-peace",
   "metadata": {},
   "source": [
    "As it is seen that the $ r^2 $ value of training and the test data is almost closer to each other, we can conclude that the predicted model, is quite perfect. \n",
    "\n",
    "Now its required to find the mean squared error.\n",
    "Less error represents that the model is well fitted."
   ]
  },
  {
   "cell_type": "code",
   "execution_count": 851,
   "id": "brief-registration",
   "metadata": {},
   "outputs": [
    {
     "data": {
      "text/plain": [
       "0.3757675101331894"
      ]
     },
     "execution_count": 851,
     "metadata": {},
     "output_type": "execute_result"
    }
   ],
   "source": [
    "from sklearn import metrics \n",
    "metrics.mean_squared_error(test_y, pred)"
   ]
  },
  {
   "cell_type": "markdown",
   "id": "separated-mills",
   "metadata": {},
   "source": [
    "# Result"
   ]
  },
  {
   "cell_type": "markdown",
   "id": "vanilla-isolation",
   "metadata": {},
   "source": [
    "### For 3130sq.ft of land, about 1840.378 dollars will be the selling price that has to be spent. "
   ]
  }
 ],
 "metadata": {
  "kernelspec": {
   "display_name": "Python 3",
   "language": "python",
   "name": "python3"
  },
  "language_info": {
   "codemirror_mode": {
    "name": "ipython",
    "version": 3
   },
   "file_extension": ".py",
   "mimetype": "text/x-python",
   "name": "python",
   "nbconvert_exporter": "python",
   "pygments_lexer": "ipython3",
   "version": "3.9.7"
  }
 },
 "nbformat": 4,
 "nbformat_minor": 5
}
